{
 "cells": [
  {
   "cell_type": "markdown",
   "metadata": {},
   "source": [
    "# Линейная регрессия"
   ]
  },
  {
   "cell_type": "markdown",
   "metadata": {},
   "source": [
    "Данные содержатся в файле `data/lin_reg.txt`. Прочитать их можно следующим так:"
   ]
  },
  {
   "cell_type": "code",
   "execution_count": 3,
   "metadata": {},
   "outputs": [
    {
     "output_type": "stream",
     "name": "stdout",
     "text": [
      "[[  9.31  -17.043  20.807  11.109]\n [ -6.446 -12.46  -12.941 -14.715]\n [ 14.324  -9.624  29.533   1.439]\n ...\n [  3.56    2.063   7.302  -7.817]\n [ 11.841 -14.315  23.148  11.777]\n [ -3.345 -15.219  -4.751  -1.141]]\n"
     ]
    }
   ],
   "source": [
    "import numpy as np\n",
    "D = np.loadtxt('../data/lin_reg.txt', delimiter=',')\n",
    "X = D[:, :-1]\n",
    "Y = D[:, -1]\n",
    "print(X)"
   ]
  },
  {
   "cell_type": "markdown",
   "metadata": {},
   "source": [
    "При выполнении заданий **нельзя** пользоваться `scikit-learn` и т.п., только `NumPy`/`JAX`/`TF`/`PyTorch` и `matplotlib`/`seaborn`/`plotly`/etc.\n",
    "\n",
    "1. Нарисуйте график среднеквадратичной ошибки в зависимости от параметра регуляризации $\\alpha$, используя полные данные для обучения и для тестирования. \n",
    "2. Подготовьте исходные данные для 5 fold CV.\n",
    "3. С помощью CV найдите оптимальное значение $\\alpha$ на какой-нибудь сетке значений.\n",
    "4. Постройте валидационную кривую. \n",
    "5. Постройте кривую обучения."
   ]
  },
  {
   "cell_type": "code",
   "execution_count": null,
   "metadata": {},
   "outputs": [],
   "source": []
  }
 ],
 "metadata": {
  "kernelspec": {
   "display_name": "Python 3",
   "language": "python",
   "name": "python3"
  },
  "language_info": {
   "codemirror_mode": {
    "name": "ipython",
    "version": 3
   },
   "file_extension": ".py",
   "mimetype": "text/x-python",
   "name": "python",
   "nbconvert_exporter": "python",
   "pygments_lexer": "ipython3",
   "version": "3.8.3-final"
  }
 },
 "nbformat": 4,
 "nbformat_minor": 4
}