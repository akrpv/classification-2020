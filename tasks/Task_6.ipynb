{
 "cells": [
  {
   "cell_type": "markdown",
   "metadata": {},
   "source": [
    "## Данные\n",
    "\n",
    "Данные в [архиве](https://drive.google.com/file/d/15o7fdxTgndoy6K-e7g8g1M2-bOOwqZPl/view?usp=sharing). В нём два файла:\n",
    "- `news_train.txt` тренировочное множество\n",
    "- `news_test.txt` тренировочное множество\n",
    "\n",
    "С некоторых новостных сайтов были загружены тексты новостей за период  несколько лет, причем каждая новость принаделжит к какой-то рубрике: `science`, `style`, `culture`, `life`, `economics`, `business`, `travel`, `forces`, `media`, `sport`.\n",
    "\n",
    "В каждой строке файла содержится метка рубрики, заголовок новостной статьи и сам текст статьи, например:\n",
    "\n",
    ">    **sport**&nbsp;&lt;tab&gt;&nbsp;**Сборная Канады по хоккею разгромила чехов**&nbsp;&lt;tab&gt;&nbsp;**Сборная Канады по хоккею крупно об...**"
   ]
  },
  {
   "cell_type": "markdown",
   "metadata": {},
   "source": [
    "# Задача\n",
    "\n",
    "1. Обработать данные, получив для каждого текста набор токенов\n",
    "Обработать токены с помощью (один вариант из трех):\n",
    "    - pymorphy2\n",
    "    - русского [snowball стеммера](https://www.nltk.org/howto/stem.html)\n",
    "    - [SentencePiece](https://github.com/google/sentencepiece) или [Huggingface Tokenizers](https://github.com/huggingface/tokenizers)\n",
    "    \n",
    "    \n",
    "2. Обучить word embeddings (fastText, word2vec, gloVe) на тренировочных данных. Можно использовать [gensim](https://radimrehurek.com/gensim/models/word2vec.html) . Продемонстрировать семантические ассоциации. \n",
    "\n",
    "3. Реализовать алгоритм классификации, посчитать точноть на тестовых данных, подобрать гиперпараметры. Метод векторизации выбрать произвольно - можно использовать $tf-idf$ с понижением размерности (см. scikit-learn), можно использовать обученные на предыдущем шаге векторные представления, можно использовать [предобученные модели](https://rusvectores.org/ru/models/). Имейте ввиду, что простое \"усреднение\" токенов в тексте скорее всего не даст положительных результатов. Нужно реализовать два алгоритмов из трех:\n",
    "     - SVM\n",
    "     - наивный байесовский классификатор\n",
    "     - логистическая регрессия\n",
    "    \n",
    "\n",
    "4.* Реализуйте классификацию с помощью нейросетевых моделей. Например [RuBERT](http://docs.deeppavlov.ai/en/master/features/models/bert.html) или [ELMo](https://rusvectores.org/ru/models/)."
   ]
  },
  {
   "cell_type": "code",
   "execution_count": 1,
   "metadata": {},
   "outputs": [],
   "source": [
    "def read_data(path='../data/news_train.txt'):\n",
    "    with open(path, 'r', encoding='utf-8') as f:\n",
    "        for line in f:\n",
    "            category, title, text = line.strip().split('\\t')\n",
    "            yield category, title, text"
   ]
  },
  {
   "cell_type": "code",
   "execution_count": 15,
   "metadata": {
    "tags": []
   },
   "outputs": [],
   "source": [
    "import re\n",
    "import os\n",
    "\n",
    "newses = []\n",
    "lines = list(open('../data/news_train.txt', 'r', encoding='utf-8'))\n",
    "\n",
    "for category, title, text in read_data():\n",
    "    news = []\n",
    "    matches = re.findall(r'\\b\\w+\\b', (title + ' ' + text).lower())\n",
    "\n",
    "    for match in matches:\n",
    "        news.append(match)\n",
    "    newses.append(news)\n",
    "    "
   ]
  },
  {
   "cell_type": "code",
   "execution_count": 18,
   "metadata": {
    "tags": []
   },
   "outputs": [],
   "source": [
    "import pymorphy2\n",
    "\n",
    "morph = pymorphy2.MorphAnalyzer()\n",
    "for news in newses:\n",
    "    for i, new in enumerate(news):\n",
    "        news[i] = morph.parse(new)[0].normal_form\n"
   ]
  },
  {
   "cell_type": "code",
   "execution_count": 19,
   "metadata": {},
   "outputs": [],
   "source": [
    "from gensim.models import Word2Vec\n",
    "import numpy as np\n",
    "\n",
    "w2v = Word2Vec(newses, workers=8)\n",
    "w2v.wv.save_word2vec_format('../data/w2v_vectors.bin')"
   ]
  },
  {
   "cell_type": "code",
   "execution_count": 20,
   "metadata": {},
   "outputs": [
    {
     "output_type": "execute_result",
     "data": {
      "text/plain": [
       "[('июль', 0.975144624710083),\n",
       " ('август', 0.9665762186050415),\n",
       " ('май', 0.9662623405456543),\n",
       " ('март', 0.9645189046859741),\n",
       " ('февраль', 0.9633722305297852),\n",
       " ('апрель', 0.9630542397499084),\n",
       " ('сентябрь', 0.9596349000930786),\n",
       " ('декабрь', 0.9557486772537231),\n",
       " ('ноябрь', 0.9546229839324951),\n",
       " ('октябрь', 0.9520280957221985)]"
      ]
     },
     "metadata": {},
     "execution_count": 20
    }
   ],
   "source": [
    "w2v.wv.most_similar(positive=[\"июнь\"])\n"
   ]
  },
  {
   "cell_type": "code",
   "execution_count": 23,
   "metadata": {},
   "outputs": [
    {
     "output_type": "execute_result",
     "data": {
      "text/plain": [
       "[('рубль', 0.8163387775421143),\n",
       " ('гривна', 0.7825718522071838),\n",
       " ('доллар', 0.7811011075973511),\n",
       " ('фунт', 0.7006552815437317),\n",
       " ('баррель', 0.6948028802871704),\n",
       " ('кубометр', 0.6932436227798462),\n",
       " ('риал', 0.6629272103309631),\n",
       " ('юань', 0.6621546149253845),\n",
       " ('427', 0.6494289636611938),\n",
       " ('375', 0.6409498453140259)]"
      ]
     },
     "metadata": {},
     "execution_count": 23
    }
   ],
   "source": [
    "w2v.wv.most_similar(positive=[\"евро\"])"
   ]
  },
  {
   "cell_type": "code",
   "execution_count": 2,
   "metadata": {
    "tags": []
   },
   "outputs": [],
   "source": [
    "import numpy as np\n",
    "\n",
    "def prepare_data(path):\n",
    "    lines = list(open(path, 'r', encoding='utf-8'))\n",
    "\n",
    "    categories = { category for (category, _, _) in read_data(path)}\n",
    "    categories = { category:i for (i, category) in enumerate(categories) }\n",
    "\n",
    "    X = []\n",
    "    y = []\n",
    "\n",
    "    for category, title, text in read_data(path):\n",
    "        X.append(title + ' ' + text)\n",
    "        y.append(categories[category])\n",
    "    return np.array(X), np.array(y)"
   ]
  },
  {
   "cell_type": "code",
   "execution_count": 3,
   "metadata": {},
   "outputs": [],
   "source": [
    "path_train = '../data/news_train.txt'\n",
    "path_test = '../data/news_test.txt'\n",
    "\n",
    "X_train, y_train = prepare_data(path_train)\n",
    "X_test, y_test = prepare_data(path_test)\n"
   ]
  },
  {
   "cell_type": "code",
   "execution_count": 4,
   "metadata": {},
   "outputs": [
    {
     "output_type": "stream",
     "name": "stdout",
     "text": [
      "Точность 0.8743333333333333\n"
     ]
    }
   ],
   "source": [
    "from sklearn.feature_extraction.text import TfidfVectorizer\n",
    "from sklearn.pipeline import Pipeline\n",
    "from sklearn.linear_model import LogisticRegression\n",
    "\n",
    "clf = LogisticRegression(n_jobs=-1)\n",
    "tfidf = TfidfVectorizer()\n",
    "text_clf = Pipeline([\n",
    "                     ('tfidf', tfidf),\n",
    "                     ('clf', clf)\n",
    "                     ])\n",
    "\n",
    "\n",
    "text_clf.fit(X_train, y_train)\n",
    "X_test_idf = tfidf.transform(X_test)\n",
    "preds = clf.predict(X_test_idf)\n",
    "\n",
    "print('Точность', (y_test == preds).mean())"
   ]
  },
  {
   "cell_type": "code",
   "execution_count": 10,
   "metadata": {},
   "outputs": [
    {
     "output_type": "stream",
     "name": "stdout",
     "text": [
      "Точность 0.808\n"
     ]
    }
   ],
   "source": [
    "from sklearn.pipeline import Pipeline\n",
    "from sklearn.feature_extraction.text import TfidfVectorizer\n",
    "from sklearn.naive_bayes import MultinomialNB\n",
    "\n",
    "clf = MultinomialNB()\n",
    "tfidf = TfidfVectorizer()\n",
    "\n",
    "text_clf = Pipeline([\n",
    "                     ('tfidf', tfidf),\n",
    "                     ('clf', clf)\n",
    "                     ])\n",
    "\n",
    "\n",
    "text_clf.fit(X_train, y_train)\n",
    "X_test_idf = tfidf.transform(X_test)\n",
    "preds = clf.predict(X_test_idf)\n",
    "\n",
    "print('Точность', (y_test == preds).mean())"
   ]
  },
  {
   "cell_type": "code",
   "execution_count": null,
   "metadata": {},
   "outputs": [],
   "source": []
  }
 ],
 "metadata": {
  "kernelspec": {
   "display_name": "Python 3",
   "language": "python",
   "name": "python3"
  },
  "language_info": {
   "codemirror_mode": {
    "name": "ipython",
    "version": 3
   },
   "file_extension": ".py",
   "mimetype": "text/x-python",
   "name": "python",
   "nbconvert_exporter": "python",
   "pygments_lexer": "ipython3",
   "version": "3.8.3-final"
  }
 },
 "nbformat": 4,
 "nbformat_minor": 4
}